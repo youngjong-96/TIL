{
  "nbformat": 4,
  "nbformat_minor": 0,
  "metadata": {
    "colab": {
      "provenance": []
    },
    "kernelspec": {
      "name": "python3",
      "display_name": "Python 3"
    },
    "language_info": {
      "name": "python"
    }
  },
  "cells": [
    {
      "cell_type": "code",
      "execution_count": 7,
      "metadata": {
        "colab": {
          "base_uri": "https://localhost:8080/"
        },
        "id": "kQa1woYbfPco",
        "outputId": "76ae693c-89a5-44e8-826b-fc7e5e852381"
      },
      "outputs": [
        {
          "output_type": "stream",
          "name": "stdout",
          "text": [
            "tensor([[0.2072, 0.5177, 0.1196],\n",
            "        [0.6218, 0.9738, 0.5396],\n",
            "        [0.8200, 0.5657, 0.6341]])\n",
            "tensor([[0.2072, 0.6218, 0.8200],\n",
            "        [0.5177, 0.9738, 0.5657],\n",
            "        [0.1196, 0.5396, 0.6341]])\n",
            "tensor([[1., 1., 1.],\n",
            "        [1., 1., 1.],\n",
            "        [1., 1., 1.]])\n",
            "tensor([[1.2072, 1.5177, 1.1196],\n",
            "        [1.6218, 1.9738, 1.5396],\n",
            "        [1.8200, 1.5657, 1.6341]])\n",
            "tensor([[0.8445, 0.8445, 0.8445],\n",
            "        [2.1352, 2.1352, 2.1352],\n",
            "        [2.0199, 2.0199, 2.0199]])\n",
            "tensor([7., 9.])\n"
          ]
        }
      ],
      "source": [
        "# PyTorch\n",
        "import torch\n",
        "\n",
        "x = torch.rand(3, 3)\n",
        "y = torch.ones(3, 3)\n",
        "print(x)\n",
        "print(x.T)\n",
        "print(y)\n",
        "print(x + y)\n",
        "print(x @ y)"
      ]
    },
    {
      "cell_type": "code",
      "source": [
        "x = torch.tensor([2.0, 3.0], requires_grad=True)\n",
        "y = x ** 2 + 3 * x + 1\n",
        "z = y.sum()\n",
        "\n",
        "# 역전파\n",
        "z.backward()\n",
        "# 역전파된 기울기 확인\n",
        "print(x.grad)"
      ],
      "metadata": {
        "colab": {
          "base_uri": "https://localhost:8080/"
        },
        "id": "2z6wdMl9jBOf",
        "outputId": "ec9401b1-8945-4488-8934-6351abf297c1"
      },
      "execution_count": 8,
      "outputs": [
        {
          "output_type": "stream",
          "name": "stdout",
          "text": [
            "tensor([7., 9.])\n"
          ]
        }
      ]
    },
    {
      "cell_type": "code",
      "source": [
        "# 장치 관리\n",
        "device = 'cpu'\n",
        "\n",
        "# windows - cuda\n",
        "if torch.cuda.is_available():\n",
        "    device = 'cuda'\n",
        "# apple silicon - mps\n",
        "if torch.mps.is_available():\n",
        "    device = torch.device('mps')\n",
        "print(device)\n",
        "\n",
        "# x.to(device)\n"
      ],
      "metadata": {
        "colab": {
          "base_uri": "https://localhost:8080/"
        },
        "id": "lZoQuxEEjSLU",
        "outputId": "d40a3ddf-48ea-4dc7-f820-fb2c754f355a"
      },
      "execution_count": 9,
      "outputs": [
        {
          "output_type": "stream",
          "name": "stdout",
          "text": [
            "cpu\n"
          ]
        }
      ]
    },
    {
      "cell_type": "code",
      "source": [
        "# 난수 고정\n",
        "import numpy as np\n",
        "import random\n",
        "SEED = 42\n",
        "torch.manual_seed(SEED)\n",
        "np.random.seed(SEED)\n",
        "random.seed(SEED)\n",
        "\n",
        "# windows - cuda\n",
        "if torch.cuda.is_available():\n",
        "    torch.cuda.manual_seed(SEED)\n",
        "    torch.backends.cudnn.deterministic = True\n",
        "    torch.backends.cudnn.benchmark = False\n",
        "\n",
        "# apple silicon - mps\n",
        "if torch.mps.is_available():\n",
        "    torch.mps.manual_seed(SEED)\n",
        "    torch.use_deterministic_algorithms(True, warn_only=True)"
      ],
      "metadata": {
        "id": "LyU9PeBUkcPQ"
      },
      "execution_count": 10,
      "outputs": []
    },
    {
      "cell_type": "code",
      "source": [
        "\"\"\"\n",
        "선형 회귀 모델을 PyTorch로 구현\n",
        "\"\"\"\n",
        "\n",
        "from torch import nn\n",
        "from torch import optim\n",
        "\n",
        "# 더미 데이터 생성\n",
        "X = torch.linspace(0, 10, 100).unsqueeze(1)  # 0~10 을 100등분 한 2차원 배열 생성\n",
        "# 2*x + 1 의 회귀 모델 구현을 목표로 하는 라벨\n",
        "y_true = 2 * X + 1 + 0.5 * torch.randn_like(X)\n",
        "\n",
        "\n",
        "# 1차원 입력, 1차원 출력의 선형 모델을 만들것이다\n",
        "model = nn.Linear(1, 1)\n",
        "# 비용함수는 MSE 사용\n",
        "criterion = nn.MSELoss()\n",
        "# SGD로 파라미터를 갱신\n",
        "optimizer = optim.SGD(model.parameters(), lr=0.01)\n",
        "\n",
        "# 학습 시작\n",
        "epochs = 1\n",
        "for epoch in range(epochs):\n",
        "    # 기울기 초기화\n",
        "    optimizer.zero_grad()\n",
        "    # 예측 진행\n",
        "    y_pred = model(X)\n",
        "    # 손실 계산\n",
        "    loss = criterion(y_pred, y_true)\n",
        "    # 비용의 미분 계산\n",
        "    loss.backward()\n",
        "    # 매개변수 업데이트\n",
        "    optimizer.step()\n",
        "    # 20번의 학습마다 기록\n",
        "    if (epoch + 1) % 20 == 0:\n",
        "        print(f'Epoch [{epoch+1}/{epochs}], Loss: {loss.item():.4f}')\n",
        "\n",
        "print('학습된 가중치 + 편향')\n",
        "for name, param in model.named_parameters():\n",
        "    print(f'{name}: {param.data}')"
      ],
      "metadata": {
        "colab": {
          "base_uri": "https://localhost:8080/"
        },
        "id": "0gNl95k_k-p5",
        "outputId": "c3cec601-ec90-444a-f8f2-42ad5296a4c6"
      },
      "execution_count": 15,
      "outputs": [
        {
          "output_type": "stream",
          "name": "stdout",
          "text": [
            "학습된 가중치 + 편향\n",
            "weight: tensor([[1.6438]])\n",
            "bias: tensor([0.6909])\n"
          ]
        }
      ]
    },
    {
      "cell_type": "code",
      "source": [
        "# 실제 데이터와 회귀선 비교\n",
        "def show_data():\n",
        "    X_np = X.squeeze().numpy()\n",
        "    y_true_np = y_true.squeeze().numpy()\n",
        "    w_learned = model.weight.item()\n",
        "    b_learned = model.bias.item()\n",
        "    print(w_learned, b_learned)\n",
        "    y_line_np = w_learned * X_np + b_learned\n",
        "\n",
        "    import matplotlib.pyplot as plt\n",
        "    plt.figure(figsize=(8, 6))\n",
        "    plt.scatter(X_np, y_true_np, s=20, color='b', alpha=0.6, label='Synthetic Data')\n",
        "    plt.plot(X_np, y_line_np, color='red', linewidth=2, label=f'Learned Model')\n",
        "\n",
        "    plt.title('Dummy Data')\n",
        "    plt.xlabel('X (Feature)')\n",
        "    plt.ylabel('y_true (Label)')\n",
        "    plt.legend()\n",
        "    plt.grid(True, linestyle='--', alpha=0.7)\n",
        "    plt.show()\n",
        "show_data()"
      ],
      "metadata": {
        "colab": {
          "base_uri": "https://localhost:8080/",
          "height": 582
        },
        "id": "trw4Le6EoYKZ",
        "outputId": "dccb6597-3dae-4021-ca02-2fc68aa1a70b"
      },
      "execution_count": 16,
      "outputs": [
        {
          "output_type": "stream",
          "name": "stdout",
          "text": [
            "1.6438459157943726 0.6908526420593262\n"
          ]
        },
        {
          "output_type": "display_data",
          "data": {
            "text/plain": [
              "<Figure size 800x600 with 1 Axes>"
            ],
            "image/png": "[encoded data removed]"
          },
          "metadata": {}
        }
      ]
    },
    {
      "cell_type": "code",
      "source": [
        "\"\"\"\n",
        "입력 - 은닉 - 출력 구조의 MLP 만들기\n",
        "\"\"\"\n",
        "\n",
        "import torch\n",
        "from torch import nn\n",
        "\n",
        "# 어떤 계층을 넣을지를 결정해서 층 구조를 class로 정의\n",
        "class SimpleMLP(nn.Module):\n",
        "    # 각 층의 뉴련의 갯수는 인스턴스를 만들 때 결정\n",
        "    def __init__(self, input_dim, hidden_dim, output_dim):\n",
        "        super().__init__()\n",
        "\n",
        "        self.fc1 = nn.Linear(input_dim, hidden_dim)\n",
        "        self.relu = nn.ReLU()\n",
        "        self.fc2 = nn.Linear(hidden_dim, output_dim)\n",
        "\n",
        "    # nn.Module()의 __call__이 호출될 때 자동으로 호출\n",
        "    def forward(self, x):\n",
        "        # 각 층을 순차적으로 호출\n",
        "        x = self.fc1(x)\n",
        "        x = self.relu(x)\n",
        "        x = self.fc2(x)\n",
        "        return x\n",
        "\n",
        "\n",
        "class SequentialMLP(nn.Module):\n",
        "    # 각 층의 뉴련의 갯수는 인스턴스를 만들 때 결정\n",
        "    def __init__(self, input_dim, hidden_dim, output_dim):\n",
        "        super().__init__()\n",
        "\n",
        "        # 각 층을 순차적으로 쌓는다\n",
        "        self.layers = nn.Sequential(\n",
        "            nn.Linear(input_dim, hidden_dim),\n",
        "            nn.ReLU(),\n",
        "            nn.Linear(hidden_dim, output_dim)\n",
        "        )\n",
        "\n",
        "    # nn.Module()의 __call__이 호출될 때 자동으로 호출\n",
        "    def forward(self, x):\n",
        "        return self.layers(x)\n",
        "\n",
        "# 인스턴스 생성\n",
        "model = SimpleMLP(20, 10, 1)\n",
        "# 20개의 feature를 가진 40개의 데이터\n",
        "X = torch.rand(size=(40,20))\n",
        "# 모델을 이용해 예측하기\n",
        "y_pred = model(X)\n",
        "# 40개의 데이터에 대한 예측 출력 (1개씩 40줄)\n",
        "print(y_pred.size())\n",
        "y_pred"
      ],
      "metadata": {
        "colab": {
          "base_uri": "https://localhost:8080/"
        },
        "id": "pRO2AuhJowQq",
        "outputId": "c6b3a402-6647-4b81-cceb-f016c18612a8"
      },
      "execution_count": 17,
      "outputs": [
        {
          "output_type": "stream",
          "name": "stdout",
          "text": [
            "torch.Size([40, 1])\n"
          ]
        },
        {
          "output_type": "execute_result",
          "data": {
            "text/plain": [
              "tensor([[-0.1510],\n",
              "        [-0.1714],\n",
              "        [-0.0102],\n",
              "        [ 0.0364],\n",
              "        [ 0.0081],\n",
              "        [-0.1118],\n",
              "        [ 0.0368],\n",
              "        [-0.0993],\n",
              "        [-0.0585],\n",
              "        [-0.2317],\n",
              "        [ 0.0269],\n",
              "        [ 0.0323],\n",
              "        [-0.0126],\n",
              "        [-0.0032],\n",
              "        [-0.0185],\n",
              "        [-0.1743],\n",
              "        [-0.0035],\n",
              "        [-0.0848],\n",
              "        [-0.1188],\n",
              "        [-0.1561],\n",
              "        [-0.0338],\n",
              "        [ 0.0231],\n",
              "        [-0.0713],\n",
              "        [ 0.0402],\n",
              "        [-0.1265],\n",
              "        [-0.0363],\n",
              "        [-0.1437],\n",
              "        [ 0.0624],\n",
              "        [-0.0678],\n",
              "        [-0.0784],\n",
              "        [-0.0219],\n",
              "        [-0.0420],\n",
              "        [ 0.0804],\n",
              "        [-0.1430],\n",
              "        [-0.0556],\n",
              "        [-0.0770],\n",
              "        [-0.0823],\n",
              "        [ 0.0223],\n",
              "        [ 0.0149],\n",
              "        [-0.1693]], grad_fn=<AddmmBackward0>)"
            ]
          },
          "metadata": {},
          "execution_count": 17
        }
      ]
    }
  ]
}