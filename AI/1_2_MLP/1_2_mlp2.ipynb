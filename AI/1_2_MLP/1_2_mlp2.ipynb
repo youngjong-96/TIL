{
  "nbformat": 4,
  "nbformat_minor": 0,
  "metadata": {
    "colab": {
      "provenance": []
    },
    "kernelspec": {
      "name": "python3",
      "display_name": "Python 3"
    },
    "language_info": {
      "name": "python"
    }
  },
  "cells": [
    {
      "cell_type": "code",
      "execution_count": 6,
      "metadata": {
        "colab": {
          "base_uri": "https://localhost:8080/",
          "height": 454
        },
        "id": "ZyH7ohm-FMCT",
        "outputId": "c66155af-e4df-4fd0-92e2-41321da42d50"
      },
      "outputs": [
        {
          "output_type": "display_data",
          "data": {
            "text/plain": [
              "<Figure size 1300x500 with 10 Axes>"
            ],
            "image/png": "[encoded data removed]"
          },
          "metadata": {}
        }
      ],
      "source": [
        "import torch\n",
        "import numpy as np\n",
        "from torch import nn\n",
        "from torch import optim\n",
        "\n",
        "import matplotlib.pyplot as plt\n",
        "from sklearn.datasets import load_digits\n",
        "\n",
        "digits = load_digits()\n",
        "X = digits.data.astype(np.float32)\n",
        "y = digits.target.astype(np.int64)\n",
        "\n",
        "fig, ax = plt.subplots(figsize=(13, 5), nrows=2, ncols=5)\n",
        "for i in range(10):\n",
        "    ax[i // 5, i % 5].imshow(X[i].reshape(8, 8), cmap=\"gray\")\n",
        "    ax[i // 5, i % 5].set_title(f\"Label: {y[i]}\")\n",
        "    ax[i // 5, i % 5].axis(\"off\")\n",
        "fig.tight_layout()\n"
      ]
    },
    {
      "cell_type": "code",
      "source": [
        "from sklearn.model_selection import train_test_split\n",
        "\n",
        "# 우선 8:2 로 나누기\n",
        "X_train, X_temp, y_train, y_temp = train_test_split(X, y, test_size=0.2, random_state=42, stratify = y)\n",
        "\n",
        "# 2를 다시 1:1로 나누기\n",
        "X_valid, X_test, y_valid, y_test = train_test_split(X_temp, y_temp, test_size=0.5, random_state=42, stratify = y_temp)\n",
        "\n",
        "# 표준화\n",
        "from sklearn.preprocessing import StandardScaler\n",
        "\n",
        "scaler = StandardScaler().fit(X_train)\n",
        "X_train = scaler.fit_transform(X_train)\n",
        "X_valid = scaler.transform(X_valid)\n",
        "X_test = scaler.transform(X_test)"
      ],
      "metadata": {
        "id": "7dCkphTGFiLz"
      },
      "execution_count": 3,
      "outputs": []
    },
    {
      "cell_type": "code",
      "source": [
        "# 모든 데이터를 텐서로 변환\n",
        "X_train_t = torch.from_numpy(X_train)\n",
        "y_train_t = torch.from_numpy(y_train)\n",
        "X_valid_t = torch.from_numpy(X_valid)\n",
        "y_valid_t = torch.from_numpy(y_valid)\n",
        "X_test_t = torch.from_numpy(X_test)\n",
        "y_test_t = torch.from_numpy(y_test)\n",
        "\n",
        "# Pytorch TensorDataset에 넣어주기\n",
        "from torch.utils.data import TensorDataset\n",
        "\n",
        "train_ds = TensorDataset(X_train_t, y_train_t)\n",
        "valid_ds = TensorDataset(X_valid_t, y_valid_t)\n",
        "test_ds = TensorDataset(X_test_t, y_test_t)\n",
        "\n",
        "# TensorDataset을 DataLoader로 변환\n",
        "from torch.utils.data import DataLoader\n",
        "\n",
        "batch_size = 32\n",
        "train_loader = DataLoader(train_ds, batch_size=batch_size, shuffle=True)\n",
        "valid_loader = DataLoader(valid_ds, batch_size=batch_size)\n",
        "test_loader = DataLoader(test_ds, batch_size=batch_size)"
      ],
      "metadata": {
        "id": "8dYV2J-dGZfA"
      },
      "execution_count": 4,
      "outputs": []
    },
    {
      "cell_type": "code",
      "source": [
        "for idx, batch in enumerate(train_loader):\n",
        "    print(idx, batch)\n",
        "    print(len(batch[1]))\n",
        "    break"
      ],
      "metadata": {
        "colab": {
          "base_uri": "https://localhost:8080/"
        },
        "id": "wiSbr2LaH2t8",
        "outputId": "793c337c-e587-43fe-ec7b-c2708a2adb51"
      },
      "execution_count": 5,
      "outputs": [
        {
          "output_type": "stream",
          "name": "stdout",
          "text": [
            "0 [tensor([[ 0.0000, -0.3305, -1.0952,  ..., -0.8197, -0.5045, -0.1936],\n",
            "        [ 0.0000, -0.3305, -1.0952,  ..., -1.1588, -0.5045, -0.1936],\n",
            "        [ 0.0000, -0.3305, -1.0952,  ..., -1.1588, -0.5045, -0.1936],\n",
            "        ...,\n",
            "        [ 0.0000, -0.3305, -0.0347,  ..., -0.4807, -0.5045, -0.1936],\n",
            "        [ 0.0000, -0.3305,  0.6016,  ...,  1.3843,  0.7189, -0.1936],\n",
            "        [ 0.0000, -0.3305,  0.8137,  ...,  1.5538,  3.4106,  2.7044]]), tensor([4, 4, 8, 5, 4, 0, 9, 0, 5, 8, 9, 2, 6, 0, 8, 4, 5, 5, 0, 1, 6, 3, 0, 9,\n",
            "        2, 0, 2, 3, 9, 1, 3, 2])]\n",
            "32\n"
          ]
        }
      ]
    },
    {
      "cell_type": "code",
      "source": [
        "# TODO\n",
        "# 3. Multi-Layer Perceptron 구현하기\n",
        "# 가장 기본적인 MultiLayer Perceptron을 구현해주세요.\n",
        "# 계층은 총 3개입니다.\n",
        "# 입력표현 -> 은닉표현1 -> 은닉표현2 -> 출력표현\n",
        "# 입력값들은 `nn.Linear`를 통과한 뒤 ReLU를 거치고 Dropout을 거치도록 설계해주세요.\n",
        "# 제가 정의해준 `__init__` 안의 인자에 맞춰서 작업해주세요 :)\n",
        "\n",
        "class MLP(nn.Module):\n",
        "    def __init__(self,\n",
        "                 input_dim: int,\n",
        "                 num_classes: int,\n",
        "                 hidden_dims=(128, 64),\n",
        "                 dropout=0.2):\n",
        "        super().__init__()\n",
        "        h1, h2 = hidden_dims\n",
        "\n",
        "        self.net = nn.Sequential(\n",
        "            # 은닉1\n",
        "            nn.Linear(input_dim, h1),\n",
        "            # 활성화 + Dropout\n",
        "            nn.ReLU(),\n",
        "            nn.Dropout(dropout),\n",
        "\n",
        "            # 은닉2 (입력 차원은 은닉1의 출력차원)\n",
        "            nn.Linear(h1, h2),\n",
        "            # 활성화 + Dropout\n",
        "            nn.ReLU(),\n",
        "            nn.Dropout(dropout),\n",
        "\n",
        "            # 출력\n",
        "            nn.Linear(h2, num_classes)\n",
        "        )\n",
        "\n",
        "\n",
        "    def forward(self, x):\n",
        "        return self.net(x)"
      ],
      "metadata": {
        "id": "8mM2czLkIERl"
      },
      "execution_count": 7,
      "outputs": []
    },
    {
      "cell_type": "code",
      "source": [
        "# 정답코드\n",
        "# 4. DataLoader, Model, Optimizer가 주어졌을 때\n",
        "# 학습데이터에 대해 model을 업데이트하는 코드를 작성해주세요.\n",
        "def train_one_epoch(model, loader, optimizer, device):\n",
        "    # 모델이 학습모드로 들어가게 설정해야합니다.\n",
        "    model.train()\n",
        "    running_loss = 0.0\n",
        "    correct = 0\n",
        "    total = 0\n",
        "    for xb, yb in loader:\n",
        "        # 데이터를 가속화기기로 보내주세요.\n",
        "        xb, yb = xb.to(device), yb.to(device)\n",
        "\n",
        "        # 위에서 배운 파라미터 업데이트 방식을 구현해주세요.\n",
        "        # 1. 모델의 출력 만들어주기\n",
        "        # 2. 미분값 지워주기 (zero_grad)\n",
        "        # 3. Loss 계산해주기: loss는 cross_entropy를 사용해주세요\n",
        "        #   - https://docs.pytorch.org/docs/stable/generated/torch.nn.functional.cross_entropy.html\n",
        "        # 4. 3에서 계산한 Loss를 기준으로 역전파를 수행합니다.\n",
        "        # 5. 파라미터 업데이트를 진행해주세요\n",
        "        optimizer.zero_grad()\n",
        "        logits = model(xb)\n",
        "        loss = torch.nn.functional.cross_entropy(logits, yb)\n",
        "        loss.backward()\n",
        "        optimizer.step()\n",
        "\n",
        "        # 파라미터 업데이트가 끝났으면 몇 가지를 기록해줍니다.\n",
        "        # 1. batch당 로스 계산 (running_loss에 업데이트)\n",
        "        # 2. 예측된 클래스 계산 (`preds`)\n",
        "        # 3. batch 내 정확도 계산 (batch 내에서 정답개수를 correct에 추가)\n",
        "        running_loss += loss.item() * xb.size(0)\n",
        "        preds = logits.argmax(dim=1)\n",
        "        correct += (preds == yb).sum().item()\n",
        "        total += yb.size(0)\n",
        "\n",
        "    # 위에서 잘 계산된 값들을 정리해서 반환합니다.\n",
        "    avg_loss = running_loss / total\n",
        "    acc = correct / total\n",
        "    return avg_loss, acc\n",
        "\n",
        "# 정답코드\n",
        "# 5. 이번에는 모델과 검증/테스트데이터가 입력으로 들어왔을 때 정확도를 계산해주는 코드를 작성해주세요.\n",
        "def evaluate(model, loader, device):\n",
        "    # 모델이 추론할 때는 추론모드로 설정해주어야합니다.\n",
        "    model.eval()\n",
        "    running_loss = 0.0\n",
        "    correct = 0\n",
        "    total = 0\n",
        "    all_preds = []\n",
        "    all_targets = []\n",
        "\n",
        "    # 미분그래프를 생성하지 않도록 컨텍스트를 생성해주셔야합니다.\n",
        "    with torch.no_grad():\n",
        "        for xb, yb in loader:\n",
        "            # 데이터로더에서 나온 배치를 `device`로 보내주세요.\n",
        "            xb, yb = xb.to(device), yb.to(device)\n",
        "\n",
        "            # 위에서 한 것과 비슷하게\n",
        "            # 모델의 출력값을 만들어 `logits`에 담고\n",
        "            # 현재 출력값 `logits`와 `yb` 사이의 Cross Entropy를 계산해주세요.\n",
        "            logits = model(xb)\n",
        "            loss = torch.nn.functional.cross_entropy(logits, yb)\n",
        "\n",
        "            # 이번에도 다음을 기록해줍니다.\n",
        "            # 1. batch당 로스 계산 (running_loss에 update)\n",
        "            # 2. 예측된 클래스 계산 (`preds`)\n",
        "            # 3. batch 내 정확도 계산 (batch 내에서 정답개수를 correct에 추가)\n",
        "            # 4. 후에 정확한 분류성능을 보기 위해 prediction 값들도 전부 기록해줍니다.\n",
        "            #  - all_preds, all_targets에 append해줍니다.\n",
        "            running_loss += loss.item() * xb.size(0)\n",
        "            preds = logits.argmax(dim=1)\n",
        "            correct += (preds == yb).sum().item()\n",
        "            total += yb.size(0)\n",
        "\n",
        "            all_preds.append(preds.cpu())\n",
        "            all_targets.append(yb.cpu())\n",
        "\n",
        "    # 위에서 잘 계산된 값들을 정리해서 반환합니다.\n",
        "    avg_loss = running_loss / total\n",
        "    acc = correct / total\n",
        "    preds_cat = torch.cat(all_preds).numpy()\n",
        "    targets_cat = torch.cat(all_targets).numpy()\n",
        "    return avg_loss, acc, preds_cat, targets_cat"
      ],
      "metadata": {
        "id": "28gnNDRFKtt5"
      },
      "execution_count": 8,
      "outputs": []
    },
    {
      "cell_type": "code",
      "source": [
        "# 모든 것을 하나로!\n",
        "# 여러분이 코드를 잘 짰다면 아래 코드가 잘 작동할겁니다!\n",
        "# 에러가 뜬다면 에러메시지를 확인해서 잘 구현되도록 맞춰주세요.\n",
        "import os\n",
        "import math\n",
        "import time\n",
        "\n",
        "from sklearn.metrics import classification_report, confusion_matrix\n",
        "\n",
        "# device = torch.device(\"cuda\")\n",
        "model = MLP(\n",
        "    input_dim=64,\n",
        "    num_classes=10,\n",
        "    hidden_dims=(128, 64),\n",
        "    dropout=0.2\n",
        ").to(device)\n",
        "\n",
        "# 이번에는 지난 과제2에서 배웠던 Adam을 사용해봅시다.\n",
        "optimizer = torch.optim.Adam(model.parameters(), lr=1e-3, weight_decay=1e-4)\n",
        "\n",
        "best_val_loss = math.inf\n",
        "best_val_acc = -1.0\n",
        "epochs_no_improve = 0\n",
        "\n",
        "checkpoint_path = \"model.ckpt\"\n",
        "earlystop_patience = 5\n",
        "\n",
        "train_losses, train_accs = [], []\n",
        "valid_losses, valid_accs = [], []\n",
        "for epoch in range(1, 201):\n",
        "    t0 = time.time()\n",
        "    # 여러분이 정의한 `train_one_epoch`와 `evaluate`입니다.\n",
        "    train_loss, train_acc = train_one_epoch(model, train_loader, optimizer, device)\n",
        "    train_losses.append(train_loss)\n",
        "    train_accs.append(train_acc)\n",
        "\n",
        "    val_loss, val_acc, _, _ = evaluate(model, valid_loader, device)\n",
        "    valid_losses.append(val_loss)\n",
        "    valid_accs.append(val_acc)\n",
        "\n",
        "    dt = time.time() - t0\n",
        "    print(\n",
        "        f\"Epoch {epoch:03d} | \"\n",
        "        f\"train loss {train_loss:.4f} acc {train_acc*100:5.2f}% | \"\n",
        "        f\"val loss {val_loss:.4f} acc {val_acc*100:5.2f}% | \"\n",
        "        f\"{dt:.1f}s\"\n",
        "    )\n",
        "\n",
        "    # 🌟 개선 시 체크포인트 저장\n",
        "    improved = (val_loss < best_val_loss) or (val_acc > best_val_acc)\n",
        "    if improved:\n",
        "        best_val_loss = min(best_val_loss, val_loss)\n",
        "        best_val_acc = max(best_val_acc, val_acc)\n",
        "        torch.save({\n",
        "            'model_state_dict': model.state_dict(),\n",
        "            'input_dim': 64,\n",
        "            'num_classes': 10,\n",
        "        }, checkpoint_path)\n",
        "        epochs_no_improve = 0\n",
        "    else:\n",
        "        epochs_no_improve += 1\n",
        "\n",
        "    # 조기 종료\n",
        "    if epochs_no_improve >= earlystop_patience:\n",
        "        print(f\"Early stopping at epoch {epoch} (no improve {earlystop_patience})\")\n",
        "        break\n",
        "\n",
        "# 베스트 모델 로드 후 테스트 평가\n",
        "if os.path.exists(checkpoint_path):\n",
        "    ckpt = torch.load(checkpoint_path, map_location=device)\n",
        "    model.load_state_dict(ckpt['model_state_dict'])\n",
        "    print(f\"Loaded best checkpoint: val_best_acc={best_val_acc*100:.2f}% val_best_loss={best_val_loss:.4f}\")\n",
        "\n",
        "test_loss, test_acc, y_pred, y_true = evaluate(model, test_loader, device)\n",
        "print(\"\\n==== Test Result ====\")\n",
        "print(f\"Test loss: {test_loss:.4f}\")\n",
        "print(f\"Test acc : {test_acc*100:.2f}%\")\n",
        "\n",
        "# 분류 리포트 / 혼동행렬\n",
        "print(\"\\nClassification report:\")\n",
        "print(classification_report(y_true, y_pred, digits=4))\n",
        "\n",
        "print(\"Confusion matrix:\")\n",
        "print(confusion_matrix(y_true, y_pred))"
      ],
      "metadata": {
        "colab": {
          "base_uri": "https://localhost:8080/",
          "height": 221
        },
        "id": "aZx_BIivK8oG",
        "outputId": "65e01ec5-1e8d-4685-c266-5cca2fb89278"
      },
      "execution_count": 11,
      "outputs": [
        {
          "output_type": "error",
          "ename": "TypeError",
          "evalue": "train_one_epoch() missing 1 required positional argument: 'device'",
          "traceback": [
            "\u001b[0;31m---------------------------------------------------------------------------\u001b[0m",
            "\u001b[0;31mTypeError\u001b[0m                                 Traceback (most recent call last)",
            "\u001b[0;32m/tmp/ipython-input-353921631.py\u001b[0m in \u001b[0;36m<cell line: 0>\u001b[0;34m()\u001b[0m\n\u001b[1;32m     31\u001b[0m     \u001b[0mt0\u001b[0m \u001b[0;34m=\u001b[0m \u001b[0mtime\u001b[0m\u001b[0;34m.\u001b[0m\u001b[0mtime\u001b[0m\u001b[0;34m(\u001b[0m\u001b[0;34m)\u001b[0m\u001b[0;34m\u001b[0m\u001b[0;34m\u001b[0m\u001b[0m\n\u001b[1;32m     32\u001b[0m     \u001b[0;31m# 여러분이 정의한 `train_one_epoch`와 `evaluate`입니다.\u001b[0m\u001b[0;34m\u001b[0m\u001b[0;34m\u001b[0m\u001b[0m\n\u001b[0;32m---> 33\u001b[0;31m     \u001b[0mtrain_loss\u001b[0m\u001b[0;34m,\u001b[0m \u001b[0mtrain_acc\u001b[0m \u001b[0;34m=\u001b[0m \u001b[0mtrain_one_epoch\u001b[0m\u001b[0;34m(\u001b[0m\u001b[0mmodel\u001b[0m\u001b[0;34m,\u001b[0m \u001b[0mtrain_loader\u001b[0m\u001b[0;34m,\u001b[0m \u001b[0moptimizer\u001b[0m\u001b[0;34m)\u001b[0m\u001b[0;34m\u001b[0m\u001b[0;34m\u001b[0m\u001b[0m\n\u001b[0m\u001b[1;32m     34\u001b[0m     \u001b[0mtrain_losses\u001b[0m\u001b[0;34m.\u001b[0m\u001b[0mappend\u001b[0m\u001b[0;34m(\u001b[0m\u001b[0mtrain_loss\u001b[0m\u001b[0;34m)\u001b[0m\u001b[0;34m\u001b[0m\u001b[0;34m\u001b[0m\u001b[0m\n\u001b[1;32m     35\u001b[0m     \u001b[0mtrain_accs\u001b[0m\u001b[0;34m.\u001b[0m\u001b[0mappend\u001b[0m\u001b[0;34m(\u001b[0m\u001b[0mtrain_acc\u001b[0m\u001b[0;34m)\u001b[0m\u001b[0;34m\u001b[0m\u001b[0;34m\u001b[0m\u001b[0m\n",
            "\u001b[0;31mTypeError\u001b[0m: train_one_epoch() missing 1 required positional argument: 'device'"
          ]
        }
      ]
    }
  ]
}